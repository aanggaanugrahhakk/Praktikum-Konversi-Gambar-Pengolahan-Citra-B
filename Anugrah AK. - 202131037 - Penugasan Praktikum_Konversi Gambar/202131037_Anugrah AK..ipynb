{
 "cells": [
  {
   "cell_type": "markdown",
   "id": "89d64b78",
   "metadata": {},
   "source": [
    "### Import Library"
   ]
  },
  {
   "cell_type": "code",
   "execution_count": 1,
   "id": "34002b21",
   "metadata": {},
   "outputs": [],
   "source": [
    "#202131037_Anugrah AK.\n",
    "import cv2 as cv"
   ]
  },
  {
   "cell_type": "code",
   "execution_count": 2,
   "id": "89861bcb",
   "metadata": {},
   "outputs": [],
   "source": [
    "#20231037_Anugrah AK.\n",
    "import numpy as np"
   ]
  },
  {
   "cell_type": "markdown",
   "id": "1be9ef53",
   "metadata": {},
   "source": [
    "### Membaca Gambar"
   ]
  },
  {
   "cell_type": "code",
   "execution_count": 3,
   "id": "08d75597",
   "metadata": {},
   "outputs": [],
   "source": [
    "#202131037_Anugrah AK.\n",
    "medical = cv.imread('citra_medis.jpg')"
   ]
  },
  {
   "cell_type": "code",
   "execution_count": 4,
   "id": "667003f4",
   "metadata": {},
   "outputs": [],
   "source": [
    "#202131037_Anugrah AK.\n",
    "cv.imshow(\"citra medis awal\",medical)\n",
    "cv.waitKey(0)\n",
    "cv.destroyAllWindows()"
   ]
  },
  {
   "cell_type": "markdown",
   "id": "3a339ad2",
   "metadata": {},
   "source": [
    "### Dimensi Gambar dan Tipe Data"
   ]
  },
  {
   "cell_type": "code",
   "execution_count": 5,
   "id": "b3734623",
   "metadata": {},
   "outputs": [
    {
     "name": "stdout",
     "output_type": "stream",
     "text": [
      "(128, 128, 3)\n",
      "uint8\n"
     ]
    }
   ],
   "source": [
    "#202131037_Anugrah AK.\n",
    "print(medical.shape)\n",
    "print(medical.dtype)"
   ]
  },
  {
   "cell_type": "markdown",
   "id": "6e460396",
   "metadata": {},
   "source": [
    "### Membagi Gambar RGB"
   ]
  },
  {
   "cell_type": "code",
   "execution_count": 6,
   "id": "cbae8fb7",
   "metadata": {},
   "outputs": [],
   "source": [
    "#202131037_Anugrah AK.\n",
    "b = medical[:,:,0]\n",
    "g = medical[:,:,0]\n",
    "r = medical[:,:,0]"
   ]
  },
  {
   "cell_type": "markdown",
   "id": "53efc41f",
   "metadata": {},
   "source": [
    "### Mengkonversi Gambar RGB ke Grayscale"
   ]
  },
  {
   "cell_type": "code",
   "execution_count": 7,
   "id": "19d7251d",
   "metadata": {},
   "outputs": [],
   "source": [
    "#202131037_Anugrah AK.\n",
    "panjang = len(medical)\n",
    "lebar = len(medical)\n",
    "\n",
    "medical_gray = np.zeros((panjang,lebar))\n",
    "\n",
    "for i in range (panjang):\n",
    "    for j in range (lebar):\n",
    "        medical_gray[i,j] = 0.2989 * r[i,j] + 0.587 * g[i,j] + 0.1141 * b[i,j]\n",
    "        \n",
    "medical_gray = medical_gray.astype(np.uint8)"
   ]
  },
  {
   "cell_type": "code",
   "execution_count": 8,
   "id": "f3b6511e",
   "metadata": {},
   "outputs": [],
   "source": [
    "#202131037_Anugrah AK.\n",
    "cv.imshow('Medical Gray', medical_gray)\n",
    "cv.waitKey(0)\n",
    "cv.destroyAllWindows()"
   ]
  },
  {
   "cell_type": "code",
   "execution_count": 9,
   "id": "5ff09bb8",
   "metadata": {},
   "outputs": [
    {
     "name": "stdout",
     "output_type": "stream",
     "text": [
      "[[  3   3   3 ... 142 135 133]\n",
      " [  3   3   3 ... 142 132 127]\n",
      " [  3   3   3 ... 141 132 127]\n",
      " ...\n",
      " [  0   0   0 ...   0   0   0]\n",
      " [  0   0   0 ...   0   0   0]\n",
      " [  0   0   0 ...   0   0   0]]\n"
     ]
    }
   ],
   "source": [
    "#202131037_Anugrah AK.\n",
    "print(medical_gray)"
   ]
  },
  {
   "cell_type": "markdown",
   "id": "fd9e7547",
   "metadata": {},
   "source": [
    "### Mengkonversi Grayscale ke Biner"
   ]
  },
  {
   "cell_type": "code",
   "execution_count": 10,
   "id": "bc75e51f",
   "metadata": {},
   "outputs": [],
   "source": [
    "#202131037_Anugrah AK.\n",
    "panjang=len(medical) \n",
    "lebar=len(medical[0])\n",
    "\n",
    "threshold=255\n",
    "\n",
    "medical_biner=np.zeros((panjang,lebar)) \n",
    "for i in range (panjang):\n",
    "    for j in range (lebar):\n",
    "        if medical_gray[i,j]>=threshold:\n",
    "            medical_biner[i,j]=0 \n",
    "        else: \n",
    "                medical_biner[i,j]=1"
   ]
  },
  {
   "cell_type": "code",
   "execution_count": 11,
   "id": "198f6ad3",
   "metadata": {},
   "outputs": [],
   "source": [
    "#202131037_Anugrah AK.\n",
    "cv.imshow('Medical Biner', medical_gray)\n",
    "cv.waitKey(0)\n",
    "cv.destroyAllWindows()"
   ]
  },
  {
   "cell_type": "markdown",
   "id": "bd65917d",
   "metadata": {},
   "source": [
    "### Cetak Piksel pada indeks tertentu"
   ]
  },
  {
   "cell_type": "code",
   "execution_count": 12,
   "id": "ad52e154",
   "metadata": {},
   "outputs": [
    {
     "name": "stdout",
     "output_type": "stream",
     "text": [
      "143\n"
     ]
    }
   ],
   "source": [
    "#202131037_Anugrah AK.\n",
    "print(medical_gray[50,50])"
   ]
  },
  {
   "cell_type": "code",
   "execution_count": 13,
   "id": "a6e358e8",
   "metadata": {},
   "outputs": [
    {
     "name": "stdout",
     "output_type": "stream",
     "text": [
      "1.0\n"
     ]
    }
   ],
   "source": [
    "#202131037_Anugrah AK.\n",
    "print(medical_biner[50,50])"
   ]
  },
  {
   "cell_type": "code",
   "execution_count": null,
   "id": "db07595e",
   "metadata": {},
   "outputs": [],
   "source": []
  }
 ],
 "metadata": {
  "kernelspec": {
   "display_name": "Python 3 (ipykernel)",
   "language": "python",
   "name": "python3"
  },
  "language_info": {
   "codemirror_mode": {
    "name": "ipython",
    "version": 3
   },
   "file_extension": ".py",
   "mimetype": "text/x-python",
   "name": "python",
   "nbconvert_exporter": "python",
   "pygments_lexer": "ipython3",
   "version": "3.10.9"
  },
  "widgets": {
   "application/vnd.jupyter.widget-state+json": {
    "state": {},
    "version_major": 2,
    "version_minor": 0
   }
  }
 },
 "nbformat": 4,
 "nbformat_minor": 5
}
